{
  "nbformat": 4,
  "nbformat_minor": 0,
  "metadata": {
    "colab": {
      "name": " Python Módulo 1",
      "provenance": [],
      "collapsed_sections": [],
      "authorship_tag": "ABX9TyPo+GQOf6NkhbokolGZMoZi",
      "include_colab_link": true
    },
    "kernelspec": {
      "name": "python3",
      "display_name": "Python 3"
    },
    "language_info": {
      "name": "python"
    }
  },
  "cells": [
    {
      "cell_type": "markdown",
      "metadata": {
        "id": "view-in-github",
        "colab_type": "text"
      },
      "source": [
        "<a href=\"https://colab.research.google.com/github/Pedro-Ivo-Florentino/Exerc-cios-de-Python-M-dulo-1/blob/main/Python_M%C3%B3dulo_1.ipynb\" target=\"_parent\"><img src=\"https://colab.research.google.com/assets/colab-badge.svg\" alt=\"Open In Colab\"/></a>"
      ]
    },
    {
      "cell_type": "code",
      "metadata": {
        "id": "ytPafhErzN6R"
      },
      "source": [
        "# Começando a partir da tradição e quebrando maldições! :)\n",
        "\n",
        "print ('Hello, world!') # Agora eu aprendo a programar! \n"
      ],
      "execution_count": null,
      "outputs": []
    },
    {
      "cell_type": "code",
      "metadata": {
        "id": "LrOuDpL21q9H"
      },
      "source": [
        "# Programa que lê o nome, a idade e o peso de uma pessoa e no fim imprima essa informaçãos.\n",
        "# O comando .strip() evita que o usuário digite com espaços excessivos. \n",
        "# O comando .title() faz com que o input seja impresso com a primeira letra de cada palavra em maiúscula.\n",
        "\n",
        "nome = input('Qual é o seu nome?\\nResposta: ').strip().title() \n",
        "idade = input('Qual é a sua idade?\\nResposta: ')\n",
        "peso = input('Qual é o seu peso em quilogramas? \\nResposta:')\n",
        "print('Bem vindo(a), {}! A sua idade é {} anos e o seu peso é de {}kg.'.format(nome,idade,peso))\n"
      ],
      "execution_count": null,
      "outputs": []
    },
    {
      "cell_type": "code",
      "metadata": {
        "id": "AJPHkMNIPauk"
      },
      "source": [
        "# Calcular a soma entre dois números\n",
        "\n",
        "numero1 = int(input('Digite o primeiro número para dar inicio a soma:\\nPrimeiro Número: '))\n",
        "numero2 = int(input('Digite o segundo número:\\nSegundo Número: '))\n",
        "soma = numero1 + numero2\n",
        "print('A soma entre {} e {} vale: {}.'.format(numero1, numero2,soma))\n"
      ],
      "execution_count": null,
      "outputs": []
    },
    {
      "cell_type": "code",
      "metadata": {
        "id": "IQpReG5DUsG1",
        "colab": {
          "base_uri": "https://localhost:8080/"
        },
        "outputId": "1b812ba8-34c6-4473-88a8-7ed5574c5c73"
      },
      "source": [
        "# Verificar se o conteúdo da variável é um caractere numérico.\n",
        "# O comando is executa várias funções e testes dentro do Python.\n",
        "\n",
        "numero = input('Digite um valor qualquer: ')\n",
        "print(numero.isnumeric()) #O código imprime False pois a variável não foi definida como int ou float\n"
      ],
      "execution_count": null,
      "outputs": [
        {
          "output_type": "stream",
          "name": "stdout",
          "text": [
            "Digite um valor qualquer: 55\n",
            "True\n"
          ]
        }
      ]
    },
    {
      "cell_type": "code",
      "metadata": {
        "id": "YRGnqsdIVj4u"
      },
      "source": [
        "# Verifica se o conteúdo da variável é um caractere alfabetico. \n",
        "# Como todo input é uma string, esse código será True para a caracterização\n",
        "\n",
        "numero = input('Digite um valor qualquer: ')\n",
        "print(numero.isalpha()) \n"
      ],
      "execution_count": null,
      "outputs": []
    },
    {
      "cell_type": "code",
      "metadata": {
        "id": "cdCICa4IVvxf"
      },
      "source": [
        "# Verifica se inforação contida na variável é um caractere misto entre numérico e alfabético\n",
        "\n",
        "numero = input('Digite um valor qualquer: ')\n",
        "print(numero.isalnum()) \n"
      ],
      "execution_count": null,
      "outputs": []
    },
    {
      "cell_type": "code",
      "metadata": {
        "id": "JmPzE1idWeRx"
      },
      "source": [
        "# Verifica se a variável associada está toda escrita em letras maiúsculas.\n",
        "\n",
        "valor = input('Digite um valor qualquer para sabermos se o valor digitado é todo formado por caracteres maiúsculos: ')\n",
        "print(valor.isupper())\n"
      ],
      "execution_count": null,
      "outputs": []
    },
    {
      "cell_type": "code",
      "metadata": {
        "id": "LAHioRtdO9Vl"
      },
      "source": [
        "# Programa que lê algo pelo teclado e mostre na tela o seu tipo primitivo e todas as informações possíveis sobre ele.\n",
        "# O comando variavelteste é o objeto do código e como tem um () após ele, estamos trabalhando com método.\n",
        "\n",
        "variavelteste = input('Digite o que deseja para analisarmos a sua característica:\\n>>> ')\n",
        "print('O tipo primitivo desse caractere é: ', type(variavelteste))\n",
        "print('Esse valor está composto somente por espaços?', variavelteste.isspace())\n",
        "print('Esse valor é composto somente por números? ', variavelteste.isnumeric())\n",
        "print('Esse valor é composto somente por caracteres alfabeticos? ', variavelteste.isalpha())\n",
        "print('Esse valor é composto por caracteres alfabeticos e numéricos? ', variavelteste.isalnum())\n",
        "print('Esse valor possui os caracteres todos em letras maiúsculas? ', variavelteste.isupper())\n",
        "print('Esse valor está com os caracteres todos em letras mínúsculas? ', variavelteste.islower())\n",
        "print('Esse valor está com as letras de cada palavra em maiúscula? ', variavelteste.istitle())\n"
      ],
      "execution_count": null,
      "outputs": []
    },
    {
      "cell_type": "code",
      "metadata": {
        "id": "fCd_ciGFMlKk"
      },
      "source": [
        "# Codigo para saber se índiivíduo vai de app de carona ou de ônibus para o trabalho.\n",
        "\n",
        "valor_passagem = 6\n",
        "valor_carona = float(input(\"Digite o valor da carona: \"))\n",
        "if (valor_carona) <= valor_passagem * 5:\n",
        "  print(\"Pegue a carona!\")\n",
        "elif (valor_carona) <= valor_passagem * 6:\n",
        "  print(\"Espere um pouco o valor pode abaixar...\")\n",
        "else:\n",
        "  print(\"Pegue o ônibus!\")\n",
        "  "
      ],
      "execution_count": null,
      "outputs": []
    },
    {
      "cell_type": "code",
      "source": [
        "# Programa que leia um número Inteiro e mostre na tela o seu sucessor e seu antecessor.\n",
        "\n",
        "numero = int(input('Digite o número para saber qual é o seu sucessor e o seu antecessor:\\n>>> '))\n",
        "## A declaração das duas variáveis seguintes para realizar o código nem era necessárioa,\n",
        "## afinal só é pedido para ralizar a identificação do antecessor e sucessor.\n",
        "sucessor = numero + 1\n",
        "antecessor = numero - 1\n",
        "# Sendo assim, utilizei a lógica matemática para ciração do código, adicionando 1 para declarar o sucessor do número\n",
        "# informoado e subtraindo 1 para declarar o seu antecessor.\n",
        "print('O sucessor de {} é {}, e o seu antecessor é {}.'.format(numero, numero + 1, numero - 1))\n",
        "print('O sucessor de {} é {}, e o seu antecessor é {}.'.format(numero, sucessor, antecessor))\n"
      ],
      "metadata": {
        "id": "SwKHkYdRMBj7"
      },
      "execution_count": null,
      "outputs": []
    },
    {
      "cell_type": "code",
      "source": [
        "## Algoritmo que leia um número e mostre o seu dobro, triplo e raiz quadrada.\n",
        "\n",
        "numero = float(input('Digite um número para que possamos calcular o seu dobro, seu triplo e sua raiz quadrada: '))\n",
        "print('''\n",
        "O número {:.1f} tem como seu dobro {:.1f}. \n",
        "\\nComo triplo {:.1f}\n",
        "\\nComo raiz quadrada {:.1f}.'''.format(numero, numero * 2, numero * 3, numero**(1/2))) # Lógica simples, onde\n",
        "# multipliquei o número declarado por 2 para encontrar seu dobro e triplo (numero * 2), (numero * 3), e para \n",
        "# encontrar sua raiz quadrada elevei o número por sua metade (numero ** (1/2))\n"
      ],
      "metadata": {
        "id": "e0yvBXDJjko_"
      },
      "execution_count": null,
      "outputs": []
    },
    {
      "cell_type": "code",
      "source": [
        "# Programa que leia as quatro notas de um aluno, calcule e mostre a sua média.\n",
        "# Decidi acrescentar as condicionais no programa para informar se ele está aprovado, \n",
        "# em recuperação ou reprovado, de acordo com a média.\n",
        "\n",
        "print('Seja bem vindo! \\nPara o aluno ser considerado aprovado ele deve obter média igual, ou superior, a 70.0.')\n",
        "print('Caso ele obtenha média entre 50.0 e 69.9, o aluno estará em fase de recuperação da disciplina.')\n",
        "print('E se o aluno obtver média inferior a 50.0 estará automaticamente reprovado na disciplina.')\n",
        "print('A soma da média é calculada a partir da soma das 4 notas do aluno e a divisão do resultado dessa soma por 4.')\n",
        "\n",
        "print('-'*75)\n",
        "nota1 = float(input('Digite a primeira nota do aluno para calcucular a sua média:\\n>>> NOTA 1 = '))\n",
        "nota2 = float(input('Digite a segunda nota do aluno para calcular a sua média:\\n>>> NOTA 2 = '))\n",
        "nota3 = float(input('Digite a terceira nota do aluno para calcular a sua média:\\n>>> NOTA 3 = '))\n",
        "nota4 = float(input('Digite a quarta nota do aluno para calcular a sua média:\\n>>> NOTA 4 = '))\n",
        "media = (nota1 + nota2 + nota3 + nota4)/4\n",
        "if media >= 70:\n",
        "  print('O aluno obteve média de {:.1f} e está aprovado na disciplina.'.format(media))\n",
        "elif media <= 69 and media >= 50:\n",
        "  print('O alundo obteve média de {:.1f} e está em fase de recuperação de disciplina.'.format(media))\n",
        "else:\n",
        "  print('O aluno obteve média de {:.1f} e está reprovado na disciplina.'.format(media))\n",
        "print('-'*75)\n"
      ],
      "metadata": {
        "id": "7sfnoN7ceAHF"
      },
      "execution_count": null,
      "outputs": []
    },
    {
      "cell_type": "code",
      "source": [
        "# Programa que leia um valor em metros e o exiba convertido para outras unidades de medida.\n",
        "\n",
        "metros = float(input('Digite o valor em metros para que seja feita a sua conversão\\n>>> '))\n",
        "print('''\n",
        "A medida de {:.0f} metros tem como correspondente: \n",
        "Em quilômetro: {:.2f} km; \n",
        "EM hectômetro: {:.2f} hm; \n",
        "Em decâmetro: {:.2f} dam; \n",
        "Em decímetro: {:.2f} dcm; \n",
        "Em centímetro: {:.2f} cm; \n",
        "Em milimetro: {:.2f}'''.format(metros, metros/1000, metros/100, metros/10, metros*10, metros*100, metros*1000))\n"
      ],
      "metadata": {
        "id": "dfKWDmwvr9ge"
      },
      "execution_count": null,
      "outputs": []
    },
    {
      "cell_type": "code",
      "source": [
        "# Pograma que leia um número Inteiro qualquer e mostre na tela a sua tabuada até 10.\n",
        "\n",
        "numero = int(input('Informe o número que deseja saber sua tabuada multiplicando até 10:\\n>>> Multiplicando: '))\n",
        "print('\\nA tabuada de {} multiplicado até 10 é: '.format(numero))\n",
        "print('-'*13)\n",
        "print('{} x {:2} = {:3} '.format(numero, 1, numero*1))\n",
        "print('{} x {:2} = {:3} '.format(numero, 2, numero*2))\n",
        "print('{} x {:2} = {:3} '.format(numero, 3, numero*3))\n",
        "print('{} x {:2} = {:3} '.format(numero, 4, numero*4))\n",
        "print('{} x {:2} = {:3} '.format(numero, 5, numero*5))\n",
        "print('{} x {:2} = {:3} '.format(numero, 6, numero*6))\n",
        "print('{} x {:2} = {:3} '.format(numero, 7, numero*7))\n",
        "print('{} x {:2} = {:3} '.format(numero, 8, numero*8))\n",
        "print('{} x {:2} = {:3} '.format(numero, 9, numero*9))\n",
        "print('{} x {:2} = {:3} '.format(numero, 10, numero*10))\n",
        "print('-'*13)\n"
      ],
      "metadata": {
        "id": "SG4YQ69KU2e-"
      },
      "execution_count": null,
      "outputs": []
    },
    {
      "cell_type": "code",
      "source": [
        "# Programa que leia quanto dinheiro uma pessoa tem disponível e mostre quanto ela pode comprar de outras moedas\n",
        "# estrangeiras como Dólar, Euro e Peso Argentino.\n",
        "\n",
        "real = float(input('''\n",
        "Informe quanto dinheiro disponível em Real você tem para comprar Dólar, \n",
        "Euro e Peso Argentino:\n",
        "Quantia disponível: R$'''))\n",
        "dolar = real/5.6591\n",
        "euro = real/6.4078\n",
        "peso_argentino = real/0.05537\n",
        "print('''Com essa quantia de R${:.2f} disponível é possível comprar: \n",
        "U$ {:.2f}; \n",
        "EUR {:.2f}; \n",
        "ARS {:.2f}'''.format(real, dolar, euro, peso_argentino))\n"
      ],
      "metadata": {
        "id": "rqSFAi0Wct77"
      },
      "execution_count": null,
      "outputs": []
    },
    {
      "cell_type": "code",
      "source": [
        "# Programa que leia a largura e a altura de uma parede em metros, \n",
        "# calcule a sua área e a quantidade de tinta necessária para pintá-la, \n",
        "# sabendo que cada litro de tinta pinta uma área de 2 metros quadrados.\n",
        "\n",
        "largura = float(input('Digite a largura da parede em metros para calcular a sua área: '))\n",
        "altura = float(input('Digite a altura da parede em metros para dar sequência ao cálculo: '))\n",
        "area = largura * altura\n",
        "tinta_necessaria = area / 2\n",
        "print('''\n",
        "A largura da parede é de: {:.2f}m. \n",
        "Sua altura é de: {:.2f}m. \n",
        "E sua área é de: {:.2f}m².\n",
        "Para pintar essa parede serão necessários: {:.1f} litros de tintas.'''.format(largura, altura, area, tinta_necessaria))\n"
      ],
      "metadata": {
        "id": "axfO09hIt-T-"
      },
      "execution_count": null,
      "outputs": []
    },
    {
      "cell_type": "code",
      "source": [
        "# Programa que Leia o preço do produto e no final imprima o seu preço com desconto.\n",
        "\n",
        "preco_inicial = float(input('Informe o preço do produto sem desconto:\\nR$ '))\n",
        "novo_preco = preco_inicial - (preco_inicial * 5/ 100)\n",
        "print('\\nO preço do produto com desconto ficou em R${:.2f}.'.format(novo_preco))\n"
      ],
      "metadata": {
        "id": "RSXo7mv12cNW"
      },
      "execution_count": null,
      "outputs": []
    },
    {
      "cell_type": "code",
      "source": [
        "# Algoritmo que leia o salário de um funcionário e mostre seu novo salário, com 15% de aumento.\n",
        "\n",
        "salario = float(input('Digite o salário do funcionário sem acréscimos: R$ '))\n",
        "novo_salario = salario + (salario * 15 / 100)\n",
        "print('O novo salário do funcionário com o acréscimo será de: R${:.2f}.'.format(novo_salario))\n"
      ],
      "metadata": {
        "id": "hGwH9EhV6viL"
      },
      "execution_count": null,
      "outputs": []
    },
    {
      "cell_type": "code",
      "source": [
        "# Programa que converta uma temperatura digitando em graus Celsius e converta para graus Fahrenheit.\n",
        "\n",
        "celsius = float(input('Digite a temperatura correspondente em graus Celsius para convertê-la em Fahrenheit: '))\n",
        "fahrenheit = (9 * celsius / 5) + 32\n",
        "print('A temperatura de {}°C corresponde a {}°F.'.format(celsius, fahrenheit)) \n"
      ],
      "metadata": {
        "id": "0LGlbKbn9DJC",
        "colab": {
          "base_uri": "https://localhost:8080/"
        },
        "outputId": "9f3f8d79-971a-40b1-8069-26d475bbea54"
      },
      "execution_count": null,
      "outputs": [
        {
          "output_type": "stream",
          "name": "stdout",
          "text": [
            "Digite a temperatura correspondente em graus Celsius para convertê-la em Fahrenheit: 35\n",
            "A temperatura de 35.0°C corresponde a 95.0°F.\n"
          ]
        }
      ]
    },
    {
      "cell_type": "code",
      "source": [
        "# Programa que pergunte a quantidade de quilômetros percorridos por um carro alugado \n",
        "# e a quantidade de dias pelos quais ele foi alugado. \n",
        "# Calcule o preço a pagar, sabendo que o carro custa R$60 por dia e R$0,15 por Km rodado.\n",
        "\n",
        "quilometros = float(input('Olá! Digite a quantidade de quilômetros percorridos pelo carro: '))\n",
        "dia = int(input('Digite a quantidade de dias alugados para dar continuídade ao cálculo: '))\n",
        "preco_final = (0.15 * quilometros) + (60 * dia)\n",
        "print('O carro ficou alugado por {} dias e percorreu {} km. O seu valor de aluguel é: R$ {:.2f}.'.format(dia, quilometros, preco_final))\n"
      ],
      "metadata": {
        "id": "bJLkPXFQBefX"
      },
      "execution_count": null,
      "outputs": []
    },
    {
      "cell_type": "code",
      "source": [
        "# Programa com utilização de Módulos para calcular raiz de um número.\n",
        "# sqr Retorna a raiz quadrada inteira de número não negativo\n",
        "# floor arredonda o valor pra baixo.\n",
        "# Se não tivesse feito a importação dos módulos específicos: sqrt, floor, ceil, deveria ter feito o comando \n",
        "# chamando a biblioteca e em seguida especificando o módulo. Ex.: raiz = math.sqrt(numero) ou math.ceil(raiz)\n",
        "\n",
        "from math import sqrt, floor, ceil\n",
        "numero = int(input('Digite um número para encontrar a sua raíz: \\n>>> '))\n",
        "raiz = sqrt(numero)\n",
        "print('A raíz de {} equivale a {}.'.format(numero, raiz)) \n",
        "# Para arredondar o valor da raiz para cima utiliza-se ceil\n",
        "print ('A sua raiz arredondade para cima equivale a {}.'.format(ceil(raiz)))\n",
        "# Para arredondar o valor da raiz para baixo utiliza-se floor\n",
        "print('E a sua raíz arredondada para baixo equivale a {}.'.format(floor(raiz)))\n"
      ],
      "metadata": {
        "id": "3YuPqCZ8DQjQ"
      },
      "execution_count": null,
      "outputs": []
    },
    {
      "cell_type": "code",
      "source": [
        "# Programa que leia um número Real qualquer pelo teclado e mostre na tela a sua porção Inteira.\n",
        "# HÁ DUAS POSSIBILIDADES DE RESOLVER ESSE EXERCÍCIO...\n",
        "\n",
        "# Nesse primeiro código foi utilizado o método trunc que que mostra a parte inteira do número relacionado\n",
        "from math import trunc\n",
        "\n",
        "real = float(input('Digite o número real para que seja gereda a sua porção inteira: \\n >>> '))\n",
        "print('O número {} tem como porção inteira {}.'.format(real, trunc(real)))\n",
        "print()\n",
        "# Nesse código foi acrescentado a parte inteira  do número = int(real)\n",
        "print('O número {} tem como porção inteira {}.'.format(real, int(real)))\n"
      ],
      "metadata": {
        "id": "Tzupm-pTMX8U"
      },
      "execution_count": null,
      "outputs": []
    },
    {
      "cell_type": "code",
      "source": [
        "# Pograma que leia o comprimento do cateto oposto e do cateto adjacente de um triângulo retângulo.\n",
        "# Calcule e mostre o comprimento da hipotenusa.\n",
        "\n",
        "# Nesse primeiro código é realizado a operação a partir dos conceitos matemáticos equivalentes:\n",
        "cateto_oposto = float(input('Iforme o comprimento do cateto oposto: \\n>>> '))\n",
        "cateto_adjascente = float(input('Informe o comprimento do cateto adjascente: \\n>>> '))\n",
        "hipotenusa = (cateto_oposto**2 + cateto_adjascente**2) ** (1/2)\n",
        "print('''\n",
        "O comprimento do Cateto Oposto equivale a {}.\n",
        "O comprimento do Cateto Adjascente equivale a {}.\n",
        "E a Hipotenusa desse triângulo equivale a {}.'''.format(cateto_oposto, cateto_adjascente, hipotenusa))\n",
        "print()\n",
        "print('=*'*100)\n",
        "\n",
        "# Nesse segundo código é utilizado o método hypot que calcula a hypotenusa:\n",
        "from math import hypot\n",
        "\n",
        "cateto_oposto = float(input('\\nIforme o comprimento do cateto oposto: \\n>>> '))\n",
        "cateto_adjascente = float(input('Informe o comprimento do cateto adjascente: \\n>>> '))\n",
        "hipotenusa = hypot(cateto_oposto, cateto_adjascente)\n",
        "print('''O comprimento do Cateto Oposto equivale a {}.\n",
        "O comprimento do Cateto Adjascente equivale a {}.\n",
        "E a Hipotenusa desse triângulo equivale a {}.'''.format(cateto_oposto, cateto_adjascente, hipotenusa))\n"
      ],
      "metadata": {
        "id": "V1KPuEQUXF2d"
      },
      "execution_count": null,
      "outputs": []
    },
    {
      "cell_type": "code",
      "source": [
        "# Programa que leia o nome completo de uma pessoa e mostre:\n",
        "# O nome com todas as letras maiúsculas e minúsculas.\n",
        "# Quantas letras ao todo (sem considerar espaços).\n",
        "# Quantas letras tem o primeiro nome\n",
        "\n",
        "from time import sleep\n",
        "\n",
        "# Esse comando .strip() evita que o usuário digite espaços excessivos no campo de input\n",
        "# capitalize() retorna uma cópia da string original e converte o primeiro caractere da string em uma letra maiúscula\n",
        "nome = str(input('Digite o seu nome completo:\\n>>> ')).strip().capitalize()\n",
        "sleep(2) # Faz o programa espera, nesse caso, (2) segundos para dar sequência.\n",
        "print('O seu nome com as letras todas em maiúsculo é: {}.'.format(nome.upper()))\n",
        "print('O seu nome com as letras todas em minúsculas é: {}. '.format(nome.lower()))\n",
        "# A função len conta os caracteres presentes na string, já o count(' ') contou especificamente os epaços entre os \n",
        "# caracteres e os subtraiu da contagem\n",
        "print('O seu nome tem ao todo {} letras. '.format(len(nome) - nome.count(' ')))\n",
        "# O comando find(' ') vai encontrar o primeiro espaço na string e informar a posição de seu índice\n",
        "# em relação a essa string. Como queremos saber a quantidade de letras do primeiro nome desse string\n",
        "# ele vai informar através da posicção do primeiro espaço encontrado quantas letras há na string.\n",
        "# a contagem um índice antes \n",
        "print('O primeiro nome digitado tem ao todo {} letras. '.format(nome.find(' '))) \n",
        "\n",
        "# Outra maneira de separar o nome é através do comando split(), separando o nome como uma lista\n",
        "nome_separado = nome.split()\n",
        "print('O primeiro nome digitado foi {} e tem ao todo {} letras. '.format(nome_separado[0], len(nome_separado[0])))\n"
      ],
      "metadata": {
        "id": "a41B9WAMLisD"
      },
      "execution_count": null,
      "outputs": []
    },
    {
      "cell_type": "code",
      "source": [
        "# Programa que leia um número de 0 a 9999 e mostre na tela cada um dos dígitos separados.\n",
        "# numero = str(numero) esse metodo dará erro ao não digitiar as 4 casas decimais\n",
        "\n",
        "\n",
        "numero = int(input('Digite um numero de 0 até 9999 para encontrarmos suas casas decimais:\\n>>> '))\n",
        "unidade = numero // 1 % 10\n",
        "dezena = numero // 10 % 10\n",
        "centena = numero // 100 % 10\n",
        "milhar = numero // 1000 % 10\n",
        "print('''\n",
        "Analisando o número {}, temos a sua divisão das casas decimais assim: \n",
        "UNIDADE: {}.\n",
        "DEZENA: {}.\n",
        "CENTENA: {}.\n",
        "UNIDADE DE MILHAR: {}. '''.format(numero, unidade, dezena, centena, milhar))\n"
      ],
      "metadata": {
        "id": "p7DnCSW-ExJo"
      },
      "execution_count": null,
      "outputs": []
    },
    {
      "cell_type": "code",
      "source": [
        "# Programa que leia o nome de uma cidade diga se ela começa ou não com o nome \"SANTO\".\n",
        "\n",
        "cidade = input('Olá! Digite o nome da cidade para saber se ela começa com a palavra Santo: \\n>>> ').strip().title()\n",
        "# [0:5] faz a busca dentro dessa coordenada e com a palavra começando em maiúscula .title\n",
        "(cidade[0:5] == \"Santo\") # Pegou o índice 0 da string e seus 5 primeiros caracteres, já que SANTO tem 5 letras\n"
      ],
      "metadata": {
        "id": "cnTHXRDsWdK8"
      },
      "execution_count": null,
      "outputs": []
    },
    {
      "cell_type": "code",
      "source": [
        "# Programa que leia o nome de uma pessoa e diga se ela tem \"SILVA\" no nome.\n",
        "\n",
        "# title faz todas a primeiras letras de cada palavra ficarem maiúscula\n",
        "nome = input('Digite o nome, por favor: ').title().strip() \n",
        "# O in é um operador e nessa condição verifica se a string Silva está contida em nome\n",
        "print('O seu nome tem Silva? {}'.format('Silva' in nome)) \n"
      ],
      "metadata": {
        "id": "UPefr5ENY_UR"
      },
      "execution_count": null,
      "outputs": []
    },
    {
      "cell_type": "code",
      "source": [
        "# Programa que leia uma frase pelo teclado e mostre quantas vezes aparece a letra \"A\", \n",
        "# e diga em que posição ela aparece a primeira vez e em que posição ela aparece a última vez.\n",
        "\n",
        "# Utilizei o método upper para procurar a letra em maiúsculo\n",
        "frase = input('Digite a frase para contar a quantidade de letras A:\\n>>> ').upper().strip() \n",
        "print('\\nA letra A aparece {} vezes na frase. '.format(frase.count('A')))\n",
        "print('A primeria letra A da frase aparece na posição {}. '.format((frase.find('A')+1)))\n",
        "# Colocando - (.count) aqui mostou na posiçao e subitraindo frase.count(' ') tirou os epaços entre as letras\n",
        "print('A última letra A aparece na posição {}. '.format((frase.rfind('A')+1-(frase.count(' ')))))\n"
      ],
      "metadata": {
        "id": "duNGOI2mdCd2"
      },
      "execution_count": null,
      "outputs": []
    },
    {
      "cell_type": "code",
      "source": [
        "# Programa que lê a quantidade de letras a presente em uma frase:\n",
        "\n",
        "contador = 0 # Começando com um contador zerado para acrescentar os valores conforme aparecerem\n",
        "\n",
        "# coloquei o método.upper() para transformar a string toda em maiúscula e ajudar no decorrer do código\n",
        "frase = input('Digite uma frase para contar a quantidade de letras A:').upper().strip()\n",
        "for letra_a in frase: # Para cada letra_a na variável frase terá a condição do if seguinte\n",
        "    if letra_a == 'A': # Se houver elementos em letra_a igual a 'A' o contador vai adicionar mais um na contagem\n",
        "                       # Comparei letra_a com A maiúsculo, pois utilizei o upper() para realizar essa comparação    \n",
        "        contador += 1\n",
        "print(contador)\n"
      ],
      "metadata": {
        "id": "lLse416ZaKwT"
      },
      "execution_count": null,
      "outputs": []
    },
    {
      "cell_type": "code",
      "source": [
        "# Programa que leia o nome completo de uma pessoa, \n",
        "# mostrando em seguida o primeiro e o último nome separadamente.\n",
        "\n",
        "nome = str(input('Digite o seu nome completo, por favor:\\>>> ')).strip().title().split()\n",
        "# Ao colocar a posição dos indices nome[0] e nome[-1] foi possível reconhecer o elemento de cada posição específica\n",
        "# pois foi utilizado o .split() que separa os elementos como uma lista \n",
        "print('Muito prazer vê-lo(a) aqui, Sr(a) {} {}. '.format(nome[0], nome[-1]))\n"
      ],
      "metadata": {
        "id": "l83Yw3d1rAXE"
      },
      "execution_count": null,
      "outputs": []
    },
    {
      "cell_type": "code",
      "source": [
        "# Programa que faça o computador “pensar” em um número inteiro entre 0 e 5 \n",
        "# e peça para o usuário tentar descobrir qual foi o número escolhido pelo computador. \n",
        "# O programa deverá escrever na tela se o usuário venceu ou perdeu.\n",
        "\n",
        "# Importação da biblioteca random(randint) faz escolher aleatóriamente o número. Já o sleep temporiza a execução do programa\n",
        "\n",
        "from random import randint\n",
        "from time import sleep\n",
        "\n",
        "# randint(0,5) faz o computador escolher aleatóriamente um número dentro desses limites\n",
        "computador = randint(0,5)\n",
        "# print('-'*60) faz o programa imprimir o caractere mencionado 60 vezes na tela\n",
        "print('-'*60)\n",
        "print('Vou pensar em um número entre 0 e 5. Tente advinhar... ')\n",
        "print('-'*60)\n",
        "jogador = int(input('Em que número eu pensei?\\n>>> '))\n",
        "print('Processando...')\n",
        "sleep(2)\n",
        "if jogador == computador:\n",
        "  print('Parabéns! Você acertou o número!')\n",
        "else:\n",
        "  print('Você não acertou o número! Eu pensei em {} e não em {}.  '.format(computador, jogador))\n",
        "  "
      ],
      "metadata": {
        "id": "wJedDA02J9gn"
      },
      "execution_count": null,
      "outputs": []
    },
    {
      "cell_type": "code",
      "source": [
        "# Programa que leia a velocidade de um carro. \n",
        "# Se ele ultrapassar 80 Km/h, mostre uma mensagem dizendo que ele foi multado. \n",
        "# A multa vai custar R$7,00 por cada Km acima do limite.\n",
        "\n",
        "velocidade = float(input('Qual é a velocidade do carro atingida? \\n>>> '))\n",
        "if velocidade > 80:\n",
        "  multa = (velocidade - 80) * 7\n",
        "  limite = 80\n",
        "  excesso = velocidade - limite\n",
        "  print('''\n",
        "  Você excedeu o limite de velocidade em {} km. \n",
        "  Como cada km acima do limite de velocidade custa R$7,00 de multa você pagará R${:.2f}. '''.format(excesso, multa))\n",
        "else:\n",
        "  print('Sua velocidade está dentro do limite permitido. Continue dirigindo com segurança!')\n",
        "  "
      ],
      "metadata": {
        "id": "ZOxxI5XbQyZB"
      },
      "execution_count": null,
      "outputs": []
    },
    {
      "cell_type": "code",
      "source": [
        "# Programa que leia um número inteiro e mostre na tela se ele é PAR ou ÍMPAR.\n",
        "\n",
        "numero = int(input('Digite um número inteiro qualquer para sabermos se ele é PAR ou IMPAR: \\n>>> '))\n",
        "if numero % 2 == 0: # Se o numero tiver o % (resto) da divisão por 2 igual a 0, logo ele será par\n",
        "  print('Esse número digitado é PAR!')\n",
        "else:\n",
        "  print('Esse número é impar!')\n",
        "  "
      ],
      "metadata": {
        "id": "kluNxbXdWT92"
      },
      "execution_count": null,
      "outputs": []
    },
    {
      "cell_type": "code",
      "source": [
        "# Programa que pergunte a distância de uma viagem em Km. \n",
        "# e calcule o preço da passagem, cobrando R$0,50 por Km para viagens de até 200Km e R$0,45 parta viagens mais longas.\n",
        "\n",
        "distancia = float(input('Digite a distância em Km da viagem para calcular o seu custo:\\n>>> '))\n",
        "if distancia <= 200:\n",
        "  preco = distancia * 0.50\n",
        "  print('A viagem teve uma distância de {}Km e custará R${} '.format(distancia, preco))\n",
        "else:\n",
        "  preco = distancia * 0.45\n",
        "  print('A viagem teve uma distãncia de {}Km e custará R${}. '.format(distancia, preco))  \n",
        "\n",
        "# É possifel a resolução do código trabalhando com operador ternário \n",
        "# preco = distancia * 0.50 if distancia <= 200 else distancia * 0.45 (if simplificado, if inline)\n"
      ],
      "metadata": {
        "id": "dhuINa-l6ZHN"
      },
      "execution_count": null,
      "outputs": []
    },
    {
      "cell_type": "code",
      "source": [
        "# programa que leia um ano qualquer e mostre se ele é bissexto.\n",
        "\n",
        "from datetime import date\n",
        "\n",
        "ano = int(input('Qual ano você quer analisar se é bissexto? Caso queira saber o ano atual digite apenas 0\\n>>> '))\n",
        "if ano == 0:\n",
        "  ano = date.today().year\n",
        "if ano % 4 == 0 and ano % 100 != 0 or ano % 400 == 0:\n",
        "  print('O ano de {} é um ano bissexto!'.format(ano))\n",
        "else:\n",
        "  print('O ano de {} não é um ano bissexto!'.format(ano))\n",
        "  "
      ],
      "metadata": {
        "id": "ePSYoiB0c843"
      },
      "execution_count": null,
      "outputs": []
    },
    {
      "cell_type": "code",
      "source": [
        "# Programa que leia um ano qualquer e mostre se ele é bissexto.\n",
        "# Agora fazendo o programa com o método isleap importando o módulo calendar\n",
        "\n",
        "from datetime import date # para saber a data vigente\n",
        "from calendar import isleap # para saber se o ano é bissexto\n",
        "\n",
        "ano = int(input('Digite o ano para saber se é BISSEXTO. Caso queira saber o ano atual digite apenas 0:\\n>>> '))\n",
        "if ano == 0:\n",
        "  ano = date.today().year\n",
        "if isleap(ano):\n",
        "    print('O ano de {} é BISSEXTO!'.format(ano))\n",
        "else:\n",
        "    print('O ano de {} não é Bissexto!'.format(ano))\n"
      ],
      "metadata": {
        "id": "eI67XyF-Fw4M"
      },
      "execution_count": null,
      "outputs": []
    },
    {
      "cell_type": "code",
      "source": [
        "# Programa que leia três números e mostre qual é o maior e qual é o menor.\n",
        "\n",
        "numero1 = int(input('Digite o primeiro número para sabermos qual será o maior e o menor: '))\n",
        "numero2 = int(input('Digite o segundo número para sabermos qual será o maior e o menor: '))\n",
        "numero3 = int(input('Digite o segundo número para sabermos qual será o mairo e o menor: '))\n",
        "numeros = [numero1, numero2, numero3]\n",
        "print('O maior valor digitado foi {}'.format(max(numeros)))\n",
        "print('O menor valor digitado foi {}'.format(min(numeros)))\n",
        "print()\n",
        "print('SEGUNDA MANEIRA')\n",
        "# Ou ao invés de criar uma lista, associar direto no .format as variáveis\n",
        "print('O maior valor digitado foi: {}.'.format(max(numero1, numero2, numero3)))\n",
        "print('O menor valor digitado foi: {}.'.format(min(numero1, numero2, numero3)))\n"
      ],
      "metadata": {
        "id": "q4tArwHziT0E"
      },
      "execution_count": null,
      "outputs": []
    },
    {
      "cell_type": "code",
      "source": [
        "# Programa que pergunte o salário de um funcionário e calcule o valor do seu aumento. \n",
        "# Para salários superiores a R$1250,00, calcule um aumento de 10%. \n",
        "# Para os inferiores ou iguais, o aumento é de 15%.\n",
        "\n",
        "salario_inicial = float(input('Qual é o salário atual do funcionário?\\nR$'))\n",
        "if salario_inicial > 1250:\n",
        "    novo_salario = salario_inicial + (salario_inicial * 10/100)\n",
        "else:\n",
        "  novo_salario = salario_inicial + ( salario_inicial * 15/100)\n",
        "print('''\n",
        "O salário do funcionário que era de R${:.2f}. \n",
        "Com o acréscimo, passou para R${:.2f}.'''.format(salario_inicial, novo_salario))\n"
      ],
      "metadata": {
        "id": "25K-3EiddhNn"
      },
      "execution_count": null,
      "outputs": []
    },
    {
      "cell_type": "code",
      "source": [
        "# Programa que leia o comprimento de três retas \n",
        "# e diga ao usuário se elas podem ou não formar um triângulo.\n",
        "# Para formar um triângulo é necessário que a soma de duas retas sejam maior que a reta não somada.\n",
        "\n",
        "segmento1 = float(input('Digite o primeiro segmento para vermos se é possível formar um triângulo:\\n'))\n",
        "segmento2 = float(input('Digite o segundo segmento para vermos se é possível formar um triângulo:\\n'))\n",
        "segmento3 = float(input('Digite o terceiro segmento para vermos se é possível formar um triângulo:\\n'))\n",
        "if segmento1 < segmento2 + segmento3 and segmento2 < segmento1 + segmento3 and segmento3 < segmento1 + segmento2:\n",
        "  print('Com os segmentos informados é possível formar um triângulo!')\n",
        "else: \n",
        "  print(\"Com os segmentos informados não é possível formar um triângulo!\")\n"
      ],
      "metadata": {
        "id": "fNK1HDpooJ37"
      },
      "execution_count": null,
      "outputs": []
    }
  ]
}